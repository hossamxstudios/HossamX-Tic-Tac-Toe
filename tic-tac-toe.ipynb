{
 "cells": [
  {
   "cell_type": "code",
   "execution_count": 1,
   "metadata": {},
   "outputs": [],
   "source": [
    "import os\n",
    "import time\n",
    "from IPython.display import clear_output\n"
   ]
  },
  {
   "cell_type": "code",
   "execution_count": 4,
   "metadata": {},
   "outputs": [],
   "source": [
    "\n",
    "def create_board():\n",
    "    \"\"\"Create a 3x3 Tic Tac Toe board.\"\"\"\n",
    "    return [[\" \" for _ in range(3)] for _ in range(3)]\n",
    "\n",
    "def print_board(board):\n",
    "    \"\"\"Print the Tic Tac Toe board.\"\"\"\n",
    "    clear_output(wait=True)  # Clear the output to update the board in the same place\n",
    "    for row in board:\n",
    "        print(\"|\".join(row))\n",
    "        print(\"-\" * 5)\n",
    "            \n",
    "def check_win(board, player):\n",
    "    \"\"\"Check for a win condition for the player.\"\"\"\n",
    "    win_conditions = [\n",
    "        [board[0][0], board[0][1], board[0][2]],  # Row 1\n",
    "        [board[1][0], board[1][1], board[1][2]],  # Row 2\n",
    "        [board[2][0], board[2][1], board[2][2]],  # Row 3\n",
    "        [board[0][0], board[1][0], board[2][0]],  # Column 1\n",
    "        [board[0][1], board[1][1], board[2][1]],  # Column 2\n",
    "        [board[0][2], board[1][2], board[2][2]],  # Column 3\n",
    "        [board[0][0], board[1][1], board[2][2]],  # Diagonal 1\n",
    "        [board[0][2], board[1][1], board[2][0]]   # Diagonal 2\n",
    "    ]\n",
    "    return [player, player, player] in win_conditions\n",
    "\n",
    "def check_tie(board):\n",
    "    \"\"\"Check for a tie condition.\"\"\"\n",
    "    return all(cell != \" \" for row in board for cell in row)\n",
    "            \n",
    "def make_move(board, player):\n",
    "    \"\"\"Prompt the player for a move and update the board.\"\"\"\n",
    "    while True:\n",
    "        row = int(input(f\"Player {player}, enter row number (1-3): \")) \n",
    "        col = int(input(f\"Player {player}, enter column number (1-3): \")) \n",
    "        if isinstance(row, int) and isinstance(col, int):\n",
    "            if 1 <= row <= 3 and 1 <= col <= 3:\n",
    "                row = row -1\n",
    "                col = col -1\n",
    "                if board[row][col] == \" \":\n",
    "                    board[row][col] = player\n",
    "                    time.sleep(0.1)\n",
    "                    break\n",
    "                else:\n",
    "                    print(\"That spot is already taken. Try again.\")\n",
    "                    time.sleep(0.1)\n",
    "            else:\n",
    "                print(\"Invalid input. Please enter numbers from 1 to 3.\")\n",
    "                time.sleep(0.1)\n",
    "        else:\n",
    "            print(\"Invalid input. Please enter valid numbers for row and column.\")\n",
    "            time.sleep(0.1)\n",
    "\n",
    "\n",
    "def main():\n",
    "    \"\"\"Main function to run the Tic Tac Toe game.\"\"\"\n",
    "    board = create_board()\n",
    "    current_player = \"X\"\n",
    "    while True:\n",
    "        print_board(board)\n",
    "        make_move(board, current_player)\n",
    "        \n",
    "        if check_win(board, current_player):\n",
    "            print_board(board)\n",
    "            print(f\"Player {current_player} wins!\")\n",
    "            break\n",
    "        if check_tie(board):\n",
    "            print_board(board)\n",
    "            print(\"It's a tie!\")\n",
    "            break\n",
    "        current_player = \"O\" if current_player == \"X\" else \"X\""
   ]
  },
  {
   "cell_type": "code",
   "execution_count": 5,
   "metadata": {},
   "outputs": [
    {
     "name": "stdout",
     "output_type": "stream",
     "text": [
      "X|O|O\n",
      "-----\n",
      "X|O| \n",
      "-----\n",
      "X| |X\n",
      "-----\n",
      "Player X wins!\n"
     ]
    }
   ],
   "source": [
    "main()\n"
   ]
  }
 ],
 "metadata": {
  "kernelspec": {
   "display_name": "Python 3 (ipykernel)",
   "language": "python",
   "name": "python3"
  },
  "language_info": {
   "codemirror_mode": {
    "name": "ipython",
    "version": 3
   },
   "file_extension": ".py",
   "mimetype": "text/x-python",
   "name": "python",
   "nbconvert_exporter": "python",
   "pygments_lexer": "ipython3",
   "version": "3.11.5"
  }
 },
 "nbformat": 4,
 "nbformat_minor": 4
}
